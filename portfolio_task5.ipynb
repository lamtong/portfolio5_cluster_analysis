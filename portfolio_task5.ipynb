{
 "cells": [
  {
   "cell_type": "markdown",
   "metadata": {},
   "source": [
    "# Portfolio Task 5: Cluster Analysis"
   ]
  },
  {
   "cell_type": "markdown",
   "metadata": {},
   "source": [
    "## Introduction\n",
    "\n",
    "A study on behalf of a business analytics consultancy company that has recently signed a contract with a UK bank to undertake segmentation analysis to identify trends and patterns in a sample of records collected from a number of their customers. \n",
    "\n",
    "The segments can be later used for the development of segment-specific financial products and promotions. \n",
    "\n",
    "**The data:** \n",
    "- Information on the customers’ `gender`, `age`, `savings` and `current account balances`, `marital status`, `homeownership` and `employability`. \n",
    "- Information on `how long they have been customers` with the bank, `how long they have been in employment` as well as their `credit risk`. \n",
    "\n",
    "## Key Findings\n",
    "\n",
    "In this case, `Hierarchical Clustering` is the effective clustering technique for targeting financial products and promotions.\n",
    "\n",
    "The analysis indicates `two distinct customer groups` with varying financial profiles and product needs.\n",
    "- `Cluster 0`, with a more established financial position, is best suited for long-term investment and insurance products.\n",
    "- `Cluster 1`, being younger and less financially mature, would benefit from products that cater to short-term needs and help them build financial security.\n",
    "\n",
    "## Recommendations\n",
    "\n",
    "**Cluster 0: Older, High-Savings Customers**\n",
    "\n",
    "- This cluster consists of older customers with `high savings`, `long-term employment`, and a `higher percentage in management positions`. \n",
    "- Their financial stability and long-term outlook make them more inclined towards long-term investment products like bonds, stocks, and mutual funds. \n",
    "- Additionally, they are likely to be interested in life insurance or property insurance products, given their focus on securing their financial future and wealth preservation.\n",
    "\n",
    "**Cluster 1: Younger, Low-Savings Customers**\n",
    "\n",
    "- This majority of customer group represents younger customers with `lower savings`, `higher balances` in their current accounts for day-to-day spending, and `limited work experience`. \n",
    "- Due to their current financial situation, this cluster is more suited for credit cards, unsecured small loans, and short-term financial products. \n",
    "- However, they may also have an interest in exploring more flexible savings or investment options that help them build a foundation for future financial growth.\n",
    "\n",
    "## Tasks\n",
    "[1. Appropriate methods to apply for the market segmentation.The characteristics used for cluster analysis and necessary modifications to the dataset to conduct the cluster analysis.](#5_1) \n",
    "\n",
    "[2. Apply, compare and contrast two different clustering algorithms. A short report summarising findings, providing an overview of the different clusters and all necessary steps undertaken in the analysis.](#5_2)\n",
    "\n",
    "## The Project Directory\n",
    "\n",
    "The Portfolio 5 Project files can be found in the Github Repository: [github.com/lamtong/portfolio5_cluster_analysis](https://github.com/lamtong/portfolio5_cluster_analysis)"
   ]
  },
  {
   "cell_type": "markdown",
   "metadata": {},
   "source": [
    "## I. Data Pre-Processing"
   ]
  },
  {
   "cell_type": "code",
   "execution_count": 59,
   "metadata": {
    "jupyter": {
     "source_hidden": true
    }
   },
   "outputs": [],
   "source": [
    "# Import packages\n",
    "import pandas as pd\n",
    "import numpy as np  \n",
    "import seaborn as sns\n",
    "import matplotlib.pyplot as plt\n",
    "import sys\n",
    "import os\n",
    "import scipy.cluster.hierarchy as sch\n",
    "from sklearn.cluster import AgglomerativeClustering\n",
    "from sklearn.cluster import KMeans\n",
    "from sklearn.metrics import silhouette_score\n",
    "from statsmodels.stats.outliers_influence import variance_inflation_factor\n",
    "\n",
    "sys.path.append(os.path.abspath(\"..\"))\n",
    "from shared_files.custom_plots import plot_props  # Import the customise plot module\n",
    "\n",
    "import warnings\n",
    "# Ignore FutureWarnings\n",
    "warnings.filterwarnings(\"ignore\", \n",
    "                        category = FutureWarning)  \n",
    "\n",
    "# Ignore SettingWithCopyWarning\n",
    "warnings.simplefilter(action=\"ignore\", \n",
    "                      category = pd.errors.SettingWithCopyWarning) \n",
    "\n",
    "# Ignore UserWarning\n",
    "warnings.simplefilter(action=\"ignore\", \n",
    "                      category = UserWarning) "
   ]
  },
  {
   "cell_type": "code",
   "execution_count": 60,
   "metadata": {
    "jupyter": {
     "source_hidden": true
    }
   },
   "outputs": [],
   "source": [
    "# -- Import the datasets -- \n",
    "\n",
    "# Base Data sheet\n",
    "df_base = pd.read_excel(io         = 'Unit6-Portfolio-Task-Data.xlsx', \n",
    "                        sheet_name = 'Base Data',\n",
    "                        header     = 1)              \n",
    "\n",
    "# Additional Data sheet (unused)\n",
    "df_add = pd.read_excel(io         = 'Unit6-Portfolio-Task-Data.xlsx', \n",
    "                       sheet_name = 'Additional Data')      "
   ]
  },
  {
   "cell_type": "markdown",
   "metadata": {},
   "source": [
    "### 1. Nulls and Duplicates handling:\n",
    "**Missing values:**"
   ]
  },
  {
   "cell_type": "code",
   "execution_count": 61,
   "metadata": {
    "jupyter": {
     "source_hidden": true
    }
   },
   "outputs": [
    {
     "name": "stdout",
     "output_type": "stream",
     "text": [
      "Nulls in Base Data:\n",
      "Current Account    0\n",
      "Savings Account    0\n",
      "Months Customer    0\n",
      "Months Employed    0\n",
      "Gender             0\n",
      "Marital Status     0\n",
      "Age                0\n",
      "Housing            0\n",
      "Job                0\n",
      "Credit Risk        0\n",
      "dtype: int64\n",
      "\n"
     ]
    }
   ],
   "source": [
    "# Number of missing data\n",
    "print(f'Nulls in Base Data:\\n{df_base.isna().sum()}\\n')"
   ]
  },
  {
   "cell_type": "markdown",
   "metadata": {},
   "source": [
    "**Duplicated Values:**"
   ]
  },
  {
   "cell_type": "code",
   "execution_count": 62,
   "metadata": {
    "jupyter": {
     "source_hidden": true
    }
   },
   "outputs": [
    {
     "name": "stdout",
     "output_type": "stream",
     "text": [
      "Duplicated in Base Data: 0\n"
     ]
    }
   ],
   "source": [
    "# Duplicates checking\n",
    "print(f'Duplicated in Base Data: {df_base.duplicated().sum()}')"
   ]
  },
  {
   "cell_type": "markdown",
   "metadata": {},
   "source": [
    "### 2. Unique Categorical values:\n",
    "\n",
    "**Unique labels in the each column:**"
   ]
  },
  {
   "cell_type": "code",
   "execution_count": 63,
   "metadata": {
    "jupyter": {
     "source_hidden": true
    }
   },
   "outputs": [
    {
     "name": "stdout",
     "output_type": "stream",
     "text": [
      "Base Data Categorical Values:\n",
      "Gender ['M' 'F']\n",
      "Marital Status ['Single' 'Divorced' 'Married']\n",
      "Housing ['Own' 'Rent' 'Other']\n",
      "Job ['Unskilled' 'Skilled' 'Management' 'Unemployed']\n",
      "Credit Risk ['Low' 'High']\n"
     ]
    }
   ],
   "source": [
    "base_cat = ['Gender', 'Marital Status', 'Housing', \n",
    "            'Job', 'Credit Risk'] # Base Data Categoricals\n",
    "\n",
    "# Show Base Data uniques in each column\n",
    "print('Base Data Categorical Values:')\n",
    "for col in df_base[base_cat]:\n",
    "    print(col, df_base[col].unique())"
   ]
  },
  {
   "cell_type": "markdown",
   "metadata": {},
   "source": [
    "## II. Portfolio 5 Tasks"
   ]
  },
  {
   "cell_type": "markdown",
   "metadata": {},
   "source": [
    "<a name=\"5_1\"></a>\n",
    "### 1. Appropriate methods  to apply for the market segmentation. The characteristics used for cluster analysis, and modifications to the dataset to conduct the cluster analysis."
   ]
  },
  {
   "cell_type": "markdown",
   "metadata": {},
   "source": [
    "#### Methods to apply for the Market Segmentation:\n",
    "To develop segment-specific products and promotions for the bank, we need to group customers based on their characteristics. The following techniques will be used in the cluster analysis:\n",
    "\n",
    "- `Hierachical Clustering`: Builds a tree-like structure to form clusters by merging or splitting groups. Suitable for small to medium datasets, exploratory analysis. Higher Computational cost than K-means (more sensitive to high dimensionality).\n",
    "- `K-means Clustering`: Partitions data into a predefined number of clusters by minimising the distance from centroids. Suitable for large datasets, well-separated clusters. Tends to form spherical clusters."
   ]
  },
  {
   "cell_type": "markdown",
   "metadata": {},
   "source": [
    "#### The characteristics used for Cluster Analysis:\n",
    "\n",
    "- The Goal of the Cluster Analysis is to find the underlying patterns in the Bank's customers, in order to develop a segment-specific financial products and promotions. \n",
    "\n",
    "- Therefore, to ensure identifying the appropriate clusters of customers with same interest and financial background, the Cluster Analysis uses all available and variables in the *Base Dataset* containing the basic information about customer's demographic and financial status, including: `Current Account`, `Savings Account`, `Months Customer`, `Months Employed`, `Gender`, `Marital Status`, `Age`, `Housing`, `Job`, and `Credit Risk`"
   ]
  },
  {
   "cell_type": "markdown",
   "metadata": {},
   "source": [
    "#### Modifications for the Cluster Analysis:\n",
    "\n",
    "**Outliers Handling:**\n",
    "\n",
    "As the `Hierachical` and `K-means` Clustering Methods rely heavily on distance-based measures to form the clusters, they are sensitive to outliers. \n",
    "\n",
    "Thus, it is necessary to handle these outliers (e.g. removal or rescaling) to prevent them distort the clustering result:\n",
    "\n",
    "- `Current Account` and `Savings Account`: From the plot below, their distributions are right-skewed with numerous extreme outliers. Instead of removing these outliers, which may contain valuable insights, we apply a *log10* transformation to rescale these variables.\n",
    "- `Months Customer` and `Months Employed`: There are only a few outliers, then we can exclude them to ensure a proper clustering."
   ]
  },
  {
   "cell_type": "code",
   "execution_count": 64,
   "metadata": {
    "jupyter": {
     "source_hidden": true
    }
   },
   "outputs": [
    {
     "data": {
      "image/png": "[encoded data removed]",
      "text/plain": [
       "<Figure size 1400x400 with 4 Axes>"
      ]
     },
     "metadata": {},
     "output_type": "display_data"
    }
   ],
   "source": [
    "# Create multiple subplots\n",
    "fig, axes = plt.subplots(1, 4, figsize=(14, 4))\n",
    "\n",
    "# Define colors for each box plot\n",
    "colors = ['Blues', 'Greens', 'Reds', 'Purples']\n",
    "\n",
    "# Box Plots\n",
    "for i, var in enumerate(['Current Account', 'Savings Account',\n",
    "                         'Months Customer', 'Months Employed']):\n",
    "    sns.boxplot(y       = df_base[var], \n",
    "                ax      = axes[i],\n",
    "                palette = colors[i])\n",
    "    axes[i].set_title(var)\n",
    "\n",
    "# Set the main title\n",
    "fig.suptitle('Box Plots of Customer Data', fontsize=16, fontweight='bold')\n",
    "\n",
    "# Show the plots\n",
    "plt.tight_layout()\n",
    "plt.show()"
   ]
  },
  {
   "cell_type": "code",
   "execution_count": 65,
   "metadata": {
    "jupyter": {
     "source_hidden": true
    }
   },
   "outputs": [],
   "source": [
    "def remove_outliers_iqr(df, column):\n",
    "    '''This function remove records with extreme outliers\n",
    "       in a column\n",
    "    Arguments:\n",
    "        df -- the designated dataframe\n",
    "        column -- the designated column\n",
    "\n",
    "    Returns:\n",
    "        the dataframe with excluded outliers\n",
    "    '''\n",
    "    Q1 = df[column].quantile(0.25)  # 25th percentile\n",
    "    Q3 = df[column].quantile(0.75)  # 75th percentile\n",
    "    IQR = Q3 - Q1  # Interquartile Range\n",
    "    \n",
    "    # Define bounds for non-outliers\n",
    "    lower_bound = Q1 - 1.5 * IQR\n",
    "    upper_bound = Q3 + 1.5 * IQR\n",
    "    \n",
    "    # Filter out outliers\n",
    "    df_filtered = df[(df[column] >= lower_bound) & (df[column] <= upper_bound)]\n",
    "    return df_filtered\n",
    "\n",
    "# Apply outlier removal to both columns\n",
    "df_clean = remove_outliers_iqr(df_base, 'Months Customer')\n",
    "df_clean = remove_outliers_iqr(df_clean, 'Months Employed') \n",
    "\n",
    "# Save the Original Dataset with removed Outlier\n",
    "# for later intepretation\n",
    "df_base_clean = df_clean.copy()"
   ]
  },
  {
   "cell_type": "code",
   "execution_count": 66,
   "metadata": {
    "jupyter": {
     "source_hidden": true
    }
   },
   "outputs": [],
   "source": [
    "# Select only integer columns\n",
    "outliers_base = ['Current Account', 'Savings Account']\n",
    "\n",
    "def log_10(data, var):\n",
    "    '''Log10 transformation\n",
    "\n",
    "    Arguments:\n",
    "        data -- the targeted dataframe\n",
    "        var -- the targeted column\n",
    "    '''\n",
    "    data[f'{var}_log'] = np.log10(data[var] + 1)\n",
    "\n",
    "# Transform the columns\n",
    "for col in outliers_base:\n",
    "    log_10(df_clean, col)"
   ]
  },
  {
   "cell_type": "markdown",
   "metadata": {},
   "source": [
    "**Categorical Variables Handling:**\n",
    "- `Gender`, `Marital Status`, `Housing`: Use dummy variables, excluding the most popular dummy variables to address redundancy..\n",
    "- `Job`, `Credit Risk`: Ecoding their labels with a specified order"
   ]
  },
  {
   "cell_type": "code",
   "execution_count": 67,
   "metadata": {
    "jupyter": {
     "source_hidden": true
    }
   },
   "outputs": [],
   "source": [
    "### Handling the Categorical Varialbes ###\n",
    "\n",
    "# Define a mapping dictionary\n",
    "job_mapping    = {'Unskilled': 0, 'Unemployed': 1, 'Skilled': 2, 'Management': 3}\n",
    "credit_mapping = {'High': 0, 'Low': 1}\n",
    "\n",
    "# Apply mapping\n",
    "df_clean['job_encoded']         = df_clean['Job'].map(job_mapping)\n",
    "df_clean['credit_risk_encoded'] = df_clean['Credit Risk'].map(credit_mapping)\n",
    "\n",
    "# One-hot Encoding #\n",
    "df_clean = pd.get_dummies(data       = df_clean, \n",
    "                          columns    = ['Gender', 'Marital Status', 'Housing']) \n",
    "\n",
    "# Dataset for Clustering\n",
    "df_clean = df_clean.drop(columns = ['Job', 'Credit Risk',\n",
    "                                    'Current Account', 'Savings Account'])\n",
    "\n",
    "# Drop most populular dummy variables to avoid redundancy\n",
    "df_clean = df_clean.drop(columns = ['Gender_M', 'Marital Status_Single', 'Housing_Own'])"
   ]
  },
  {
   "cell_type": "markdown",
   "metadata": {},
   "source": [
    "**Redundancy:**\n",
    "\n",
    "Since all `VIF < 10`, there is no severe multicollinearity among the variables. Thus, the clustering algorithm should perform accurately since the input variables are relatively independent."
   ]
  },
  {
   "cell_type": "code",
   "execution_count": 68,
   "metadata": {},
   "outputs": [
    {
     "name": "stdout",
     "output_type": "stream",
     "text": [
      "Number of variables with VIF > 10: 0\n"
     ]
    }
   ],
   "source": [
    "# Convert to numeric (force conversion)\n",
    "df_vif = df_clean.astype(float)\n",
    "\n",
    "# Calculate VIF for each variable\n",
    "vif = [variance_inflation_factor(df_vif.values, i) for i in range(df_vif.shape[1])]\n",
    "\n",
    "# Count values greater than 10\n",
    "high_vif = np.sum(np.array(vif) > 10)\n",
    "print(f'Number of variables with VIF > 10: {high_vif}')"
   ]
  },
  {
   "cell_type": "markdown",
   "metadata": {},
   "source": [
    "<a name=\"5_2\"></a>\n",
    "### 2. Apply, compare and contrast two different clustering algorithms. A short report summarising findings, providing an overview of the different clusters and all necessary steps undertaken in the analysis."
   ]
  },
  {
   "cell_type": "markdown",
   "metadata": {},
   "source": [
    "#### 2.1. Hierarchical Clustering:\n",
    "\n",
    "Hierarchical clustering is an unsupervised learning method for clustering data points. The algorithm builds clusters by measuring the dissimilarities between data.\n",
    "\n",
    "- Type: Agglomerative - Starts with individual data points and merges the closest clusters at each step.\n",
    "- Best for: Small to medium-sized datasets, hierarchical relationships between clusters.\n",
    "- Limitations:\n",
    "  - Sesitive to outliers and high dimensionality.\n",
    "  - Not suitable for large datasets.\n",
    "  - Hard to determine the optimal number of clusters without visualisation (dendrogram)."
   ]
  },
  {
   "cell_type": "markdown",
   "metadata": {},
   "source": [
    "**The Dedogram:**\n",
    "\n",
    "- Based on the dendrogram below, the appropriate number of clusters is `2`, as there is a significant vertical gap between the two clusters. \n",
    "- This large gap indicates a clear distinction between the clusters, suggesting that they should be considered separate clusters."
   ]
  },
  {
   "cell_type": "code",
   "execution_count": 69,
   "metadata": {
    "jupyter": {
     "source_hidden": true
    }
   },
   "outputs": [
    {
     "data": {
      "image/png": "[encoded data removed]",
      "text/plain": [
       "<Figure size 1000x700 with 1 Axes>"
      ]
     },
     "metadata": {},
     "output_type": "display_data"
    }
   ],
   "source": [
    "#Create and plot the dendrogram\n",
    "plt.figure(figsize=(10, 7))\n",
    "dendrogram = sch.dendrogram(sch.linkage(df_clean, method='ward'))\n",
    "plt.title(\"Hierarchical Clustering Dendrogram\")\n",
    "plt.xticks([]) # Disable xticks\n",
    "plt.xlabel(\"Data Points\")\n",
    "plt.ylabel(\"Euclidean Distance\")\n",
    "sns.despine()\n",
    "plt.show()"
   ]
  },
  {
   "cell_type": "markdown",
   "metadata": {},
   "source": [
    "**Find the best `Agglomerative Hierarchical Clustering` Method:**\n",
    "\n",
    "To find the best method, on a random subset of `30%` of the data, try all different combinations of:\n",
    "- Number of Clusters: `2 to 7` clusters.\n",
    "- Distance Metric: `Euclidean`, `Manhattan`, and `Cosine`. Unfortunately, `Minkowski` and `Mahalanobis` aren't available in *sklearn.cluster.AgglomerativeClustering*\n",
    "- Linkage: `Single-link`, `Complete-link`, `Average-link`, and `Ward's`.\n"
   ]
  },
  {
   "cell_type": "code",
   "execution_count": 70,
   "metadata": {
    "jupyter": {
     "source_hidden": true
    }
   },
   "outputs": [],
   "source": [
    "# Agglomerative Hierarchical Clustering Parameters\n",
    "hc_al = {'n_cluster'  : [2, 3, 4, 5, 6, 7],\n",
    "         'metric'     : ['euclidean', 'manhattan', 'cosine'],\n",
    "         'linkage'    : ['ward', 'complete', 'average', 'single']}\n",
    "\n",
    "# The Random Subset of 30% Data\n",
    "hc_subset = df_clean.sample(frac         = 0.3, \n",
    "                            random_state = 42)\n",
    "\n",
    "# The Dataframe of resuslts\n",
    "df_hc_al = pd.DataFrame(columns=['Clusters', 'Metric', 'Linkage', 'Silhouette'])\n",
    "\n",
    "# Perform the Clustering with all combinations\n",
    "for n_cluster in hc_al['n_cluster']:\n",
    "    for metric in hc_al['metric']:\n",
    "        for linkage in hc_al['linkage']:\n",
    "            \n",
    "            # Ward's linkage only works with Euclidean Distance \n",
    "            if metric != 'euclidean' and linkage == 'ward':\n",
    "                continue\n",
    "            else:\n",
    "                hc = AgglomerativeClustering(n_clusters = n_cluster, \n",
    "                                             metric     = metric, \n",
    "                                             linkage    = linkage)\n",
    "                hrc_clusters = hc.fit_predict(hc_subset)\n",
    "                \n",
    "                silhouette_avg_hc = silhouette_score(hc_subset, hrc_clusters)\n",
    "                \n",
    "                # Create a DataFrame for the new row\n",
    "                new_row = pd.DataFrame({'Clusters'   : [n_cluster], \n",
    "                                        'Metric'     : [metric], \n",
    "                                        'Linkage'    : [linkage],\n",
    "                                        'Silhouette' : [silhouette_avg_hc]})\n",
    "\n",
    "                # Concatenate the new row to the original DataFrame\n",
    "                df_hc_al = pd.concat([df_hc_al, new_row], ignore_index=True)"
   ]
  },
  {
   "cell_type": "markdown",
   "metadata": {},
   "source": [
    "The combinations with the highest Silhouette Score:"
   ]
  },
  {
   "cell_type": "code",
   "execution_count": 71,
   "metadata": {},
   "outputs": [
    {
     "data": {
      "text/html": [
       "<div>\n",
       "<style scoped>\n",
       "    .dataframe tbody tr th:only-of-type {\n",
       "        vertical-align: middle;\n",
       "    }\n",
       "\n",
       "    .dataframe tbody tr th {\n",
       "        vertical-align: top;\n",
       "    }\n",
       "\n",
       "    .dataframe thead th {\n",
       "        text-align: right;\n",
       "    }\n",
       "</style>\n",
       "<table border=\"1\" class=\"dataframe\">\n",
       "  <thead>\n",
       "    <tr style=\"text-align: right;\">\n",
       "      <th></th>\n",
       "      <th>Clusters</th>\n",
       "      <th>Metric</th>\n",
       "      <th>Linkage</th>\n",
       "      <th>Silhouette</th>\n",
       "    </tr>\n",
       "  </thead>\n",
       "  <tbody>\n",
       "    <tr>\n",
       "      <th>5</th>\n",
       "      <td>2</td>\n",
       "      <td>manhattan</td>\n",
       "      <td>average</td>\n",
       "      <td>0.561143</td>\n",
       "    </tr>\n",
       "    <tr>\n",
       "      <th>1</th>\n",
       "      <td>2</td>\n",
       "      <td>euclidean</td>\n",
       "      <td>complete</td>\n",
       "      <td>0.559232</td>\n",
       "    </tr>\n",
       "    <tr>\n",
       "      <th>2</th>\n",
       "      <td>2</td>\n",
       "      <td>euclidean</td>\n",
       "      <td>average</td>\n",
       "      <td>0.559232</td>\n",
       "    </tr>\n",
       "    <tr>\n",
       "      <th>0</th>\n",
       "      <td>2</td>\n",
       "      <td>euclidean</td>\n",
       "      <td>ward</td>\n",
       "      <td>0.519763</td>\n",
       "    </tr>\n",
       "    <tr>\n",
       "      <th>8</th>\n",
       "      <td>2</td>\n",
       "      <td>cosine</td>\n",
       "      <td>average</td>\n",
       "      <td>0.519763</td>\n",
       "    </tr>\n",
       "  </tbody>\n",
       "</table>\n",
       "</div>"
      ],
      "text/plain": [
       "  Clusters     Metric   Linkage  Silhouette\n",
       "5        2  manhattan   average    0.561143\n",
       "1        2  euclidean  complete    0.559232\n",
       "2        2  euclidean   average    0.559232\n",
       "0        2  euclidean      ward    0.519763\n",
       "8        2     cosine   average    0.519763"
      ]
     },
     "execution_count": 71,
     "metadata": {},
     "output_type": "execute_result"
    }
   ],
   "source": [
    "# Records of Highest Silhouettes\n",
    "df_hc_al.nlargest(5, 'Silhouette')"
   ]
  },
  {
   "cell_type": "markdown",
   "metadata": {},
   "source": [
    "**Based on the results above, the best `Agglomerative Hierachical Clustering` Model:**\n",
    "- Number of Clusters: `2`\n",
    "- Distance metric: `Manhattan`\n",
    "- Linkage method: `average`"
   ]
  },
  {
   "cell_type": "code",
   "execution_count": 72,
   "metadata": {},
   "outputs": [],
   "source": [
    "### Apply Hierarchical Clustering on the complete dataset###\n",
    "\n",
    "hc = AgglomerativeClustering(n_clusters = 2, \n",
    "                             metric     = 'manhattan', \n",
    "                             linkage    = 'average')\n",
    "hc_clusters = hc.fit_predict(df_clean)\n",
    "\n",
    "silhouette_avg_hc = silhouette_score(df_clean, hc_clusters)\n",
    "\n",
    "# Assign cluster labels to a dataset\n",
    "hc_clus = df_clean.copy()\n",
    "df_base_clean['hc_cluster'] = hc_clusters"
   ]
  },
  {
   "cell_type": "markdown",
   "metadata": {},
   "source": [
    "**Cluster Sizes:**"
   ]
  },
  {
   "cell_type": "code",
   "execution_count": 73,
   "metadata": {
    "jupyter": {
     "source_hidden": true
    }
   },
   "outputs": [
    {
     "data": {
      "text/html": [
       "<div>\n",
       "<style scoped>\n",
       "    .dataframe tbody tr th:only-of-type {\n",
       "        vertical-align: middle;\n",
       "    }\n",
       "\n",
       "    .dataframe tbody tr th {\n",
       "        vertical-align: top;\n",
       "    }\n",
       "\n",
       "    .dataframe thead th {\n",
       "        text-align: right;\n",
       "    }\n",
       "</style>\n",
       "<table border=\"1\" class=\"dataframe\">\n",
       "  <thead>\n",
       "    <tr style=\"text-align: right;\">\n",
       "      <th></th>\n",
       "      <th>count</th>\n",
       "    </tr>\n",
       "    <tr>\n",
       "      <th>hc_cluster</th>\n",
       "      <th></th>\n",
       "    </tr>\n",
       "  </thead>\n",
       "  <tbody>\n",
       "    <tr>\n",
       "      <th>1</th>\n",
       "      <td>320</td>\n",
       "    </tr>\n",
       "    <tr>\n",
       "      <th>0</th>\n",
       "      <td>88</td>\n",
       "    </tr>\n",
       "  </tbody>\n",
       "</table>\n",
       "</div>"
      ],
      "text/plain": [
       "            count\n",
       "hc_cluster       \n",
       "1             320\n",
       "0              88"
      ]
     },
     "execution_count": 73,
     "metadata": {},
     "output_type": "execute_result"
    }
   ],
   "source": [
    "# Number of Customers in each Cluster\n",
    "clus_size = df_base_clean['hc_cluster'].value_counts()\n",
    "clus_size = clus_size.to_frame()\n",
    "clus_size"
   ]
  },
  {
   "cell_type": "markdown",
   "metadata": {},
   "source": [
    "**Silhouette Score:**\n",
    "\n",
    "A Silhouette Score of `0.558` indicates a moderate to good clustering result. It suggests that the clusters are reasonably well-separated, but there's still room for improvement."
   ]
  },
  {
   "cell_type": "code",
   "execution_count": 74,
   "metadata": {},
   "outputs": [
    {
     "name": "stdout",
     "output_type": "stream",
     "text": [
      "Hierachichal Clustering Silhouette Score: 0.5575\n"
     ]
    }
   ],
   "source": [
    "# The Silhouette Score\n",
    "silhouette_avg_hc = silhouette_score(df_clean, hc_clusters)\n",
    "print(f'Hierachichal Clustering Silhouette Score: {silhouette_avg_hc:.4f}')"
   ]
  },
  {
   "cell_type": "markdown",
   "metadata": {},
   "source": [
    "**Averages between Clusters:**\n",
    "\n",
    "The Averages of `Current Account`, `Savings Account`, `Months Customer`, `Months Employed`, and `Age` between Clusters."
   ]
  },
  {
   "cell_type": "code",
   "execution_count": 75,
   "metadata": {
    "jupyter": {
     "source_hidden": true
    }
   },
   "outputs": [],
   "source": [
    "def cluster_compare(df, var):\n",
    "    '''_summary_\n",
    "\n",
    "    Arguments:\n",
    "        df -- _description_\n",
    "        var -- _description_\n",
    "\n",
    "    Returns:\n",
    "        _description_\n",
    "    '''\n",
    "    # Numerical values\n",
    "    numericals = ['Current Account', 'Savings Account', \n",
    "                'Months Customer', 'Months Employed', \n",
    "                'Age']\n",
    "\n",
    "    # Categorical values\n",
    "    categoricals = ['Gender', 'Marital Status', \n",
    "                    'Housing', 'Job', 'Credit Risk']\n",
    "    \n",
    "    # Averages between Clusters\n",
    "    avg_diff = df.groupby(var)[numericals].mean()\n",
    "    avg_diff = avg_diff.applymap(lambda x: f\"{x:.2f}\")\n",
    "\n",
    "    # Unqiue counts between Clusters\n",
    "    unique = df.groupby(var)[categoricals].value_counts()\n",
    "\n",
    "    return avg_diff, unique\n",
    "\n",
    "hc_mean, hc_unique =  cluster_compare(df_base_clean, 'hc_cluster')"
   ]
  },
  {
   "cell_type": "code",
   "execution_count": 76,
   "metadata": {
    "jupyter": {
     "source_hidden": true
    }
   },
   "outputs": [
    {
     "data": {
      "text/html": [
       "<div>\n",
       "<style scoped>\n",
       "    .dataframe tbody tr th:only-of-type {\n",
       "        vertical-align: middle;\n",
       "    }\n",
       "\n",
       "    .dataframe tbody tr th {\n",
       "        vertical-align: top;\n",
       "    }\n",
       "\n",
       "    .dataframe thead th {\n",
       "        text-align: right;\n",
       "    }\n",
       "</style>\n",
       "<table border=\"1\" class=\"dataframe\">\n",
       "  <thead>\n",
       "    <tr style=\"text-align: right;\">\n",
       "      <th></th>\n",
       "      <th>Current Account</th>\n",
       "      <th>Savings Account</th>\n",
       "      <th>Months Customer</th>\n",
       "      <th>Months Employed</th>\n",
       "      <th>Age</th>\n",
       "    </tr>\n",
       "    <tr>\n",
       "      <th>hc_cluster</th>\n",
       "      <th></th>\n",
       "      <th></th>\n",
       "      <th></th>\n",
       "      <th></th>\n",
       "      <th></th>\n",
       "    </tr>\n",
       "  </thead>\n",
       "  <tbody>\n",
       "    <tr>\n",
       "      <th>0</th>\n",
       "      <td>874.75</td>\n",
       "      <td>1982.08</td>\n",
       "      <td>22.15</td>\n",
       "      <td>77.31</td>\n",
       "      <td>41.25</td>\n",
       "    </tr>\n",
       "    <tr>\n",
       "      <th>1</th>\n",
       "      <td>1104.85</td>\n",
       "      <td>1750.98</td>\n",
       "      <td>22.52</td>\n",
       "      <td>16.02</td>\n",
       "      <td>32.09</td>\n",
       "    </tr>\n",
       "  </tbody>\n",
       "</table>\n",
       "</div>"
      ],
      "text/plain": [
       "           Current Account Savings Account Months Customer Months Employed  \\\n",
       "hc_cluster                                                                   \n",
       "0                   874.75         1982.08           22.15           77.31   \n",
       "1                  1104.85         1750.98           22.52           16.02   \n",
       "\n",
       "              Age  \n",
       "hc_cluster         \n",
       "0           41.25  \n",
       "1           32.09  "
      ]
     },
     "execution_count": 76,
     "metadata": {},
     "output_type": "execute_result"
    }
   ],
   "source": [
    "# Averages between Clusters\n",
    "hc_mean"
   ]
  },
  {
   "cell_type": "markdown",
   "metadata": {},
   "source": [
    "**Percentages of Customers based on their characteristics in each Cluster:**\n",
    "\n",
    "The percentages of different `Gender`, `Marital Status`, `Housing`, `Job`, `Credit Risk` in each Cluster."
   ]
  },
  {
   "cell_type": "code",
   "execution_count": 77,
   "metadata": {
    "jupyter": {
     "source_hidden": true
    }
   },
   "outputs": [
    {
     "name": "stdout",
     "output_type": "stream",
     "text": [
      "### Percentage Distribution for Gender ###\n",
      "hc_cluster  Gender\n",
      "0           M         80%\n",
      "            F         20%\n",
      "1           M         64%\n",
      "            F         36%\n",
      "Name: proportion, dtype: object \n",
      "\n",
      "### Percentage Distribution for Marital Status ###\n",
      "hc_cluster  Marital Status\n",
      "0           Single            73%\n",
      "            Divorced          24%\n",
      "            Married            3%\n",
      "1           Single            49%\n",
      "            Divorced          42%\n",
      "            Married            9%\n",
      "Name: proportion, dtype: object \n",
      "\n",
      "### Percentage Distribution for Housing ###\n",
      "hc_cluster  Housing\n",
      "0           Own        64%\n",
      "            Other      22%\n",
      "            Rent       15%\n",
      "1           Own        71%\n",
      "            Rent       21%\n",
      "            Other       9%\n",
      "Name: proportion, dtype: object \n",
      "\n",
      "### Percentage Distribution for Job ###\n",
      "hc_cluster  Job       \n",
      "0           Skilled       59%\n",
      "            Management    23%\n",
      "            Unskilled     18%\n",
      "1           Skilled       65%\n",
      "            Unskilled     22%\n",
      "            Management     9%\n",
      "            Unemployed     3%\n",
      "Name: proportion, dtype: object \n",
      "\n",
      "### Percentage Distribution for Credit Risk ###\n",
      "hc_cluster  Credit Risk\n",
      "0           Low            56%\n",
      "            High           44%\n",
      "1           High           51%\n",
      "            Low            49%\n",
      "Name: proportion, dtype: object \n",
      "\n"
     ]
    }
   ],
   "source": [
    "def cluster_percent(df, col):\n",
    "    '''_summary_\n",
    "\n",
    "    Arguments:\n",
    "        df -- _description_\n",
    "        col -- _description_\n",
    "    '''\n",
    "\n",
    "    # Categorical values\n",
    "    categoricals = ['Gender', 'Marital Status', \n",
    "                    'Housing', 'Job', 'Credit Risk']\n",
    "\n",
    "    # Dictionary to store results\n",
    "    percentage_results = {}\n",
    "\n",
    "    # Loop through categorical variables and calculate percentages\n",
    "    for cat in categoricals:\n",
    "        percentage_results[cat] = (\n",
    "            df[[cat, col]]\n",
    "            .groupby(col)[cat]\n",
    "            .value_counts(normalize=True) * 100\n",
    "        )\n",
    "        \n",
    "    # Display all results\n",
    "    for cat, result in percentage_results.items():\n",
    "        print(f\"### Percentage Distribution for {cat} ###\")\n",
    "        print(result.apply(lambda x: f\"{x:.0f}%\"), \"\\n\") \n",
    "  \n",
    "# Show the percentages in each Cluster     \n",
    "cluster_percent(df_base_clean, 'hc_cluster')"
   ]
  },
  {
   "cell_type": "markdown",
   "metadata": {},
   "source": [
    "**The Clusters Summary:**\n",
    "\n",
    "| Attribute                              | Cluster 0                                      | Cluster 1                         |\n",
    "|----------------------------------------|------------------------------------------------|-----------------------------------|\n",
    "| **Size**                               | 88                                             | 320                               |  \n",
    "| **Current Account**                    |                                                | Significantly Higher              |\n",
    "| **Savings Account**                    | Higher                                         |                                   |\n",
    "| **Months Employed**                    | Significantly Higher                           |                                   |\n",
    "| **Age**                                | Higher                                         |                                   |  \n",
    "| **Marital Status**                     | 73% Single                                     | 49% Single                        |\n",
    "| **Job**                                | 59% Skilled, 23% Management                    | 65% Skilled, 9% Management        |\n",
    "\n",
    "*For better intepretation of the differences between clusters, further statistical tests should also be considered (e.g. two-sample t-test for means of subsets, or chi-squared test for distributions of categorical variables).*\n",
    "\n",
    "**Recommendations:**\n",
    "- **Cluster 0:** This group represents older customers with high savings, long employment tenure, and a higher proportion of management positions. Then they are more likely to intest in long-term investment products such as bonds, stocks, or mutual funds. Or products like Life or Property Insurance, given their financial stability and long-term outlook.\n",
    "- **Cluster 1:**  Younger customers with low savings and a high balance in their current accounts for spending, along with limited work experience. Products like credit cards and unsecured small loans should be their priority. However, this group may also be interested in exploring flexible savings or investment options that align with their current financial status."
   ]
  },
  {
   "cell_type": "markdown",
   "metadata": {},
   "source": [
    "#### 2.2. K-Means Clustering\n",
    "- Type: Partition-based\n",
    "  - Divides the dataset into K clusters by minimizing the distance between points within each cluster\n",
    "  - Each cluster is represented by a central point (centroid)\n",
    "- Best for: Large datasets with well-separated clusters\n",
    "- Limitations:\n",
    "  - Assumes clusters are spherical and similar in size\n",
    "  - Struggles with non-linear shapes or outliers"
   ]
  },
  {
   "cell_type": "markdown",
   "metadata": {},
   "source": [
    "**Elbow Method to choose the number of Clusters:**\n",
    "\n",
    "Based on the *Number of Clusters vs. WCSS* plot, the appropriate number of clusters is `2`, as the plot shows a clear \"elbow\" at this point, indicating that adding more clusters results in only a small reduction in Within-Cluster Sum of Squares (WCSS)."
   ]
  },
  {
   "cell_type": "code",
   "execution_count": 78,
   "metadata": {
    "jupyter": {
     "source_hidden": true
    }
   },
   "outputs": [
    {
     "data": {
      "image/png": "[encoded data removed]",
      "text/plain": [
       "<Figure size 700x400 with 1 Axes>"
      ]
     },
     "metadata": {},
     "output_type": "display_data"
    }
   ],
   "source": [
    "### Determine the number of clusters (using Elbow method) ###\n",
    "\n",
    "wcss = []  # Within-cluster sum of squares (WCSS)\n",
    "for i in range(1, 11):  # Cluster sizes from 1 to 10\n",
    "    kmeans = KMeans(n_clusters   = i, \n",
    "                    init         = 'k-means++', \n",
    "                    max_iter     = 300, \n",
    "                    n_init       = 10, \n",
    "                    random_state = 42)\n",
    "    \n",
    "    kmeans.fit(df_clean)  # Fit the KMeans algorithm\n",
    "    wcss.append(kmeans.inertia_)\n",
    "\n",
    "#Plot the Elbow curve to choose the optimal number of clusters\n",
    "plt.figure(figsize = (7, 4))\n",
    "plt.plot(range(1, 11), wcss)\n",
    "plt.title('Number of Clusters vs. WCSS')\n",
    "plt.xlabel('Clusters')\n",
    "plt.ylabel('WCSS')\n",
    "sns.despine()\n",
    "plt.show()"
   ]
  },
  {
   "cell_type": "markdown",
   "metadata": {},
   "source": [
    "**K-means Clustering on the Dataset:**\n",
    "\n",
    "- Number of Cluster: `2`\n",
    "- Centroid initialisation: `k-means++` method, improving convergence and accuracy.\n",
    "- Maximum iterations: `300` iterations to find optimal centroids.\n",
    "- Number of centroid initialisations: Automatically determines the number of centroid initialisations to improve stability.\n",
    "- Stopping tolerance: `1e-7` The algorithm stops when the centroid movement is smaller than this value."
   ]
  },
  {
   "cell_type": "code",
   "execution_count": 79,
   "metadata": {
    "jupyter": {
     "source_hidden": true
    }
   },
   "outputs": [],
   "source": [
    "optimal_k = 2 # Number of Clusters\n",
    "\n",
    "# K-Means clustering settings\n",
    "kmeans = KMeans(n_clusters   = optimal_k, \n",
    "                init         = 'k-means++', \n",
    "                max_iter     = 300, \n",
    "                n_init       = 'auto', \n",
    "                random_state = 42,\n",
    "                tol          = 1e-7)\n",
    "\n",
    "# Perform clustering\n",
    "kmean_clusters = kmeans.fit_predict(df_clean)  \n",
    "\n",
    "# Assign the cluster labels \n",
    "df_base_clean['kmean_cluster'] = kmean_clusters"
   ]
  },
  {
   "cell_type": "markdown",
   "metadata": {},
   "source": [
    "**Cluster Sizes:**"
   ]
  },
  {
   "cell_type": "code",
   "execution_count": null,
   "metadata": {
    "jupyter": {
     "source_hidden": true
    }
   },
   "outputs": [
    {
     "data": {
      "text/html": [
       "<div>\n",
       "<style scoped>\n",
       "    .dataframe tbody tr th:only-of-type {\n",
       "        vertical-align: middle;\n",
       "    }\n",
       "\n",
       "    .dataframe tbody tr th {\n",
       "        vertical-align: top;\n",
       "    }\n",
       "\n",
       "    .dataframe thead th {\n",
       "        text-align: right;\n",
       "    }\n",
       "</style>\n",
       "<table border=\"1\" class=\"dataframe\">\n",
       "  <thead>\n",
       "    <tr style=\"text-align: right;\">\n",
       "      <th></th>\n",
       "      <th>count</th>\n",
       "    </tr>\n",
       "    <tr>\n",
       "      <th>kmean_cluster</th>\n",
       "      <th></th>\n",
       "    </tr>\n",
       "  </thead>\n",
       "  <tbody>\n",
       "    <tr>\n",
       "      <th>0</th>\n",
       "      <td>306</td>\n",
       "    </tr>\n",
       "    <tr>\n",
       "      <th>1</th>\n",
       "      <td>102</td>\n",
       "    </tr>\n",
       "  </tbody>\n",
       "</table>\n",
       "</div>"
      ],
      "text/plain": [
       "               count\n",
       "kmean_cluster       \n",
       "0                306\n",
       "1                102"
      ]
     },
     "execution_count": 80,
     "metadata": {},
     "output_type": "execute_result"
    }
   ],
   "source": [
    "# Number of Customers in each Cluster\n",
    "df_km_clus_size = df_base_clean['kmean_cluster'].value_counts()\n",
    "df_km_clus_size = df_km_clus_size.to_frame()\n",
    "df_km_clus_size"
   ]
  },
  {
   "cell_type": "markdown",
   "metadata": {},
   "source": [
    "**Silhouette Score:**\n",
    "\n",
    "A Silhouette Score of `0.549` indicates a moderate to good clustering result, marginally lower than Hierachical Method's above. Still, it suggests that the clusters are reasonably well-separated, but there's still room for improvement. "
   ]
  },
  {
   "cell_type": "code",
   "execution_count": null,
   "metadata": {},
   "outputs": [
    {
     "name": "stdout",
     "output_type": "stream",
     "text": [
      "K-means Clustering Silhouette Score: 0.5490\n"
     ]
    }
   ],
   "source": [
    "silhouette_avg_kmean = silhouette_score(df_clean, kmean_clusters)\n",
    "print(f'K-means Clustering Silhouette Score: {silhouette_avg_kmean:.4f}')"
   ]
  },
  {
   "cell_type": "markdown",
   "metadata": {},
   "source": [
    "**Averages between Clusters:**\n",
    "\n",
    "The Averages of `Current Account`, `Savings Account`, `Months Customer`, `Months Employed`, and `Age` between Clusters."
   ]
  },
  {
   "cell_type": "code",
   "execution_count": null,
   "metadata": {
    "jupyter": {
     "source_hidden": true
    }
   },
   "outputs": [
    {
     "data": {
      "text/html": [
       "<div>\n",
       "<style scoped>\n",
       "    .dataframe tbody tr th:only-of-type {\n",
       "        vertical-align: middle;\n",
       "    }\n",
       "\n",
       "    .dataframe tbody tr th {\n",
       "        vertical-align: top;\n",
       "    }\n",
       "\n",
       "    .dataframe thead th {\n",
       "        text-align: right;\n",
       "    }\n",
       "</style>\n",
       "<table border=\"1\" class=\"dataframe\">\n",
       "  <thead>\n",
       "    <tr style=\"text-align: right;\">\n",
       "      <th></th>\n",
       "      <th>Current Account</th>\n",
       "      <th>Savings Account</th>\n",
       "      <th>Months Customer</th>\n",
       "      <th>Months Employed</th>\n",
       "      <th>Age</th>\n",
       "    </tr>\n",
       "    <tr>\n",
       "      <th>kmean_cluster</th>\n",
       "      <th></th>\n",
       "      <th></th>\n",
       "      <th></th>\n",
       "      <th></th>\n",
       "      <th></th>\n",
       "    </tr>\n",
       "  </thead>\n",
       "  <tbody>\n",
       "    <tr>\n",
       "      <th>0</th>\n",
       "      <td>1033.60</td>\n",
       "      <td>1764.81</td>\n",
       "      <td>22.07</td>\n",
       "      <td>14.54</td>\n",
       "      <td>32.18</td>\n",
       "    </tr>\n",
       "    <tr>\n",
       "      <th>1</th>\n",
       "      <td>1120.07</td>\n",
       "      <td>1908.87</td>\n",
       "      <td>23.55</td>\n",
       "      <td>73.32</td>\n",
       "      <td>39.74</td>\n",
       "    </tr>\n",
       "  </tbody>\n",
       "</table>\n",
       "</div>"
      ],
      "text/plain": [
       "              Current Account Savings Account Months Customer Months Employed  \\\n",
       "kmean_cluster                                                                   \n",
       "0                     1033.60         1764.81           22.07           14.54   \n",
       "1                     1120.07         1908.87           23.55           73.32   \n",
       "\n",
       "                 Age  \n",
       "kmean_cluster         \n",
       "0              32.18  \n",
       "1              39.74  "
      ]
     },
     "execution_count": 82,
     "metadata": {},
     "output_type": "execute_result"
    }
   ],
   "source": [
    "# Averages between Clusters\n",
    "kmean_mean, kmean_unique =  cluster_compare(df_base_clean, 'kmean_cluster')\n",
    "kmean_mean"
   ]
  },
  {
   "cell_type": "markdown",
   "metadata": {},
   "source": [
    "**Percentages of Customers based on their characteristics in each Cluster:**\n",
    "\n",
    "The Percentage of different `Gender`, `Marital Status`, `Housing`, `Job`, `Credit Risk` in each Cluster."
   ]
  },
  {
   "cell_type": "code",
   "execution_count": 83,
   "metadata": {},
   "outputs": [
    {
     "name": "stdout",
     "output_type": "stream",
     "text": [
      "### Percentage Distribution for Gender ###\n",
      "kmean_cluster  Gender\n",
      "0              M         63%\n",
      "               F         37%\n",
      "1              M         79%\n",
      "               F         21%\n",
      "Name: proportion, dtype: object \n",
      "\n",
      "### Percentage Distribution for Marital Status ###\n",
      "kmean_cluster  Marital Status\n",
      "0              Single            47%\n",
      "               Divorced          43%\n",
      "               Married           10%\n",
      "1              Single            74%\n",
      "               Divorced          24%\n",
      "               Married            3%\n",
      "Name: proportion, dtype: object \n",
      "\n",
      "### Percentage Distribution for Housing ###\n",
      "kmean_cluster  Housing\n",
      "0              Own        71%\n",
      "               Rent       21%\n",
      "               Other       8%\n",
      "1              Own        64%\n",
      "               Other      21%\n",
      "               Rent       16%\n",
      "Name: proportion, dtype: object \n",
      "\n",
      "### Percentage Distribution for Job ###\n",
      "kmean_cluster  Job       \n",
      "0              Skilled       64%\n",
      "               Unskilled     23%\n",
      "               Management     9%\n",
      "               Unemployed     4%\n",
      "1              Skilled       62%\n",
      "               Management    22%\n",
      "               Unskilled     17%\n",
      "Name: proportion, dtype: object \n",
      "\n",
      "### Percentage Distribution for Credit Risk ###\n",
      "kmean_cluster  Credit Risk\n",
      "0              High           51%\n",
      "               Low            49%\n",
      "1              Low            56%\n",
      "               High           44%\n",
      "Name: proportion, dtype: object \n",
      "\n"
     ]
    }
   ],
   "source": [
    "# Show the percentages for each Cluster\n",
    "cluster_percent(df_base_clean, 'kmean_cluster')"
   ]
  },
  {
   "cell_type": "markdown",
   "metadata": {},
   "source": [
    "**The Clusters Summary:**\n",
    "\n",
    "| Attribute                              | Cluster 0                                      | Cluster 1                         |\n",
    "|----------------------------------------|------------------------------------------------|-----------------------------------|\n",
    "| **Size**                               | 306                                            | 102                               |  \n",
    "| **Age**                                |                                                | Higher                            |\n",
    "| **Savings Account**                    |                                                | Slightly Higher                   |\n",
    "| **Months Employed**                    |                                                | Significantly Higher              |  \n",
    "| **Job**                                | 9% Management                                  | 22% Management                    |"
   ]
  },
  {
   "cell_type": "markdown",
   "metadata": {},
   "source": [
    "#### 2.3 Comparing the two Clustering Technique results:\n",
    "\n",
    "The results' comparison between `Hierachical Clustering` and `K-means Clustering`:\n",
    "\n",
    "|                                        | Hierarchical Clustering                        | K-means Clustering               |\n",
    "|----------------------------------------|------------------------------------------------|----------------------------------|\n",
    "| **Best for**                           | Small to medium-sized datasets, hierarchical relationships between clusters. | Large datasets with well-separated clusters | \n",
    "| **Limitations**                        | Sesitive to outliers and high dimensionality. Not suitable for large datasets. | Struggles with non-linear shapes or outliers |\n",
    "| **Cluster Sizes**                      | 88 - 320                                       | 306 - 102                        |  \n",
    "| **Silhouette Score**                   | 0.558 (Better)                                 | 0.549                            |\n",
    "| **Cluster Interpretation**             | Based on the analysis above, this method shows clearer patterns in customer characteristics between clusters, making it more convenient to make business decisions regarding targeted products and promotions | This technique shows less distinct differences between the clusters' characteristics, making it harder to differentiate between customer segments and making relevant decisions                                 |\n",
    "\n",
    "**Conclusion:** Based on the higher Silhouette Score and clearer clustering patterns, in this case, `Hierarchical Clustering` is the more effective clustering technique for targeting financial products and promotions."
   ]
  }
 ],
 "metadata": {
  "kernelspec": {
   "display_name": "base",
   "language": "python",
   "name": "python3"
  },
  "language_info": {
   "codemirror_mode": {
    "name": "ipython",
    "version": 3
   },
   "file_extension": ".py",
   "mimetype": "text/x-python",
   "name": "python",
   "nbconvert_exporter": "python",
   "pygments_lexer": "ipython3",
   "version": "3.12.4"
  }
 },
 "nbformat": 4,
 "nbformat_minor": 4
}
